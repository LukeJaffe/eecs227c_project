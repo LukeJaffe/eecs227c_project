{
 "cells": [
  {
   "cell_type": "code",
   "execution_count": 1,
   "metadata": {},
   "outputs": [],
   "source": [
    "import numpy as np\n",
    "import matplotlib.pyplot as plt"
   ]
  },
  {
   "cell_type": "code",
   "execution_count": 2,
   "metadata": {},
   "outputs": [],
   "source": [
    "def f(w, u, v):\n",
    "    # Compute shift term for log-sum-exp trick\n",
    "    us, vs = ((w@u)**2), ((w@v)**2)\n",
    "    shift = max(us, vs)\n",
    "    # Compute function value using log-sum-exp trick\n",
    "    return shift + np.log(np.exp((w@u)**2 - shift) + np.exp((w@v)**2 - shift))\n",
    "\n",
    "def g(w, u, v):\n",
    "    # Compute shift term for exp-normalize trick\n",
    "    us, vs = ((w@u)**2), ((w@v)**2)\n",
    "    shift = max(us, vs)\n",
    "    # Compute gradient numerator with exp-normalize\n",
    "    t = 2*(np.exp((w@u)**2 - shift)*np.outer(u, u) + np.exp((w@v)**2 - shift)*np.outer(v, v))@w\n",
    "    # Compute gradient denominator with exp-normalize\n",
    "    b = np.exp((w@u)**2 - shift) + np.exp((w@v)**2 - shift)\n",
    "    # Final term is numerator / denominator\n",
    "    return t / b\n",
    "\n",
    "def ag(w, u, v, a):\n",
    "    # Compute shift term for exp-normalize trick\n",
    "    us, vs = ((w@u)**2) + np.log(a), ((w@v)**2) + np.log(a)\n",
    "    shift = max(us, vs)\n",
    "    # Compute gradient numerator with exp-normalize\n",
    "    t = 2*(np.exp((w@u)**2 + np.log(a) - shift)*np.outer(u, u) + np.exp((w@v)**2 + np.log(a) - shift)*np.outer(v, v))@w\n",
    "    # Compute gradient denominator with exp-normalize\n",
    "    b = np.exp((w@u)**2 - shift) + np.exp((w@v)**2 - shift)\n",
    "    # Final term is numerator / denominator\n",
    "    return t / b\n",
    "\n",
    "def h(w, u, v):\n",
    "    t1 = 4*(np.exp((w@u)**2)*((w@u)**2)*np.outer(u, u) + np.exp((w@v)**2)*((w@v)**2)*np.outer(v, v))\n",
    "    b1 = np.exp((w@u)**2) + np.exp((w@v)**2)\n",
    "    t2 = 4*np.exp((w@u)**2)*np.outer(u, u)@np.outer(w, w)@(np.exp((w@u)**2)*np.outer(u, u)).T\n",
    "    b2 = (np.exp((w@u)**2) + np.exp((w@v)**2))**2\n",
    "    return (t1 / b1) - (t2 / b2)\n",
    "\n",
    "f_min = np.log(2)"
   ]
  },
  {
   "cell_type": "code",
   "execution_count": 3,
   "metadata": {},
   "outputs": [
    {
     "name": "stdout",
     "output_type": "stream",
     "text": [
      "0.0007627263556146957\n"
     ]
    },
    {
     "data": {
      "image/png": "[encoded data removed]",
      "text/plain": [
       "<Figure size 432x288 with 1 Axes>"
      ]
     },
     "metadata": {
      "needs_background": "light"
     },
     "output_type": "display_data"
    }
   ],
   "source": [
    "def gd(w0, u, v, num_iter=100):\n",
    "    w = w0\n",
    "    t_list = [0]\n",
    "    f_list = [f(w0, u, v) - f_min]\n",
    "    for t in range(1, num_iter+1):\n",
    "        # Compute smoothness\n",
    "        Mt = 4*( ((w@u)**2)*(u@u) + ((w@v)**2)*(v@v) )\n",
    "        # Set learning rate\n",
    "        a = 1 / Mt\n",
    "        # Take gradient step\n",
    "        #wn = w - a*g(w, u, v)\n",
    "        # Take stabilized gradient step\n",
    "        wn = w - ag(w, u, v, a)\n",
    "        # Store results\n",
    "        t_list.append(t)\n",
    "        f_list.append(f(wn, u, v) - f_min)\n",
    "        w = wn\n",
    "        \n",
    "    return t_list, f_list\n",
    "\n",
    "# 1 -> inf, nan, 4 -> nan, nan\n",
    "np.random.seed(0)\n",
    "\n",
    "# Set dimension\n",
    "d = 100\n",
    "\n",
    "# Initialize weights\n",
    "w0 = np.random.rand(d)\n",
    "\n",
    "# Initialize data\n",
    "x, y, z = np.random.rand(3, d)\n",
    "u = x - y\n",
    "v = x - z\n",
    "\n",
    "# Run gradient descent\n",
    "t1_list, f1_list = gd(w0, u, v)\n",
    "print(min(f1_list))\n",
    "\n",
    "# Filter after the point where it stops descending\n",
    "ft1_list, ff1_list = [], []\n",
    "for t, f1, f2 in zip(t1_list, f1_list[:-1], f1_list[1:]):\n",
    "    if f2 <= f1:\n",
    "        ft1_list.append(t)\n",
    "        ff1_list.append(f1)\n",
    "    else:\n",
    "        break\n",
    "\n",
    "# Plot results\n",
    "fig, ax, = plt.subplots()\n",
    "ax.plot(ft1_list, ff1_list, label=r'$\\alpha = \\frac{1}{M}$')\n",
    "ax.legend()\n",
    "plt.show()"
   ]
  }
 ],
 "metadata": {
  "kernelspec": {
   "display_name": "Python 3",
   "language": "python",
   "name": "python3"
  },
  "language_info": {
   "codemirror_mode": {
    "name": "ipython",
    "version": 3
   },
   "file_extension": ".py",
   "mimetype": "text/x-python",
   "name": "python",
   "nbconvert_exporter": "python",
   "pygments_lexer": "ipython3",
   "version": "3.6.9"
  }
 },
 "nbformat": 4,
 "nbformat_minor": 2
}
